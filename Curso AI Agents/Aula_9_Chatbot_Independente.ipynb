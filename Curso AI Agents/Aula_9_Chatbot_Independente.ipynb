{
 "cells": [
  {
   "cell_type": "markdown",
   "id": "38547f5f",
   "metadata": {},
   "source": [
    "\n",
    "# 🚀 Aula 9: Criando um Chatbot Totalmente Independente e Autônomo\n",
    "\n",
    "Neste notebook, vamos construir um chatbot que toma decisões sem intervenção humana e opera sozinho.\n",
    "\n",
    "## 📌 O que faremos:\n",
    "1. Criar um chatbot que aprende sozinho e ajusta suas respostas.\n",
    "2. Integrar o chatbot a APIs externas para obter informações.\n",
    "3. Criar um fluxo de automação onde o chatbot executa ações sem supervisão.\n",
    "\n",
    "---\n"
   ]
  },
  {
   "cell_type": "code",
   "execution_count": null,
   "id": "e1c48b21",
   "metadata": {},
   "outputs": [],
   "source": [
    "\n",
    "# Instale as bibliotecas necessárias\n",
    "!pip install openai requests json\n"
   ]
  },
  {
   "cell_type": "code",
   "execution_count": null,
   "id": "14275546",
   "metadata": {},
   "outputs": [],
   "source": [
    "\n",
    "import openai\n",
    "import requests\n",
    "import json\n",
    "\n",
    "# Defina sua chave de API (substitua 'SUA_CHAVE_AQUI' pela chave real)\n",
    "openai.api_key = \"SUA_CHAVE_AQUI\"\n"
   ]
  },
  {
   "cell_type": "code",
   "execution_count": null,
   "id": "dbd8c1e2",
   "metadata": {},
   "outputs": [],
   "source": [
    "\n",
    "# Criando um chatbot que ajusta suas respostas com base no histórico de aprendizado\n",
    "historico = []\n",
    "\n",
    "def chatbot_aprendizado(pergunta):\n",
    "    resposta = openai.ChatCompletion.create(\n",
    "        model=\"gpt-4\",\n",
    "        messages=[{\"role\": \"user\", \"content\": pergunta}]\n",
    "    )[\"choices\"][0][\"message\"][\"content\"]\n",
    "    \n",
    "    historico.append({\"pergunta\": pergunta, \"resposta\": resposta})\n",
    "    \n",
    "    with open(\"historico.json\", \"w\") as f:\n",
    "        json.dump(historico, f, indent=4)\n",
    "    \n",
    "    return resposta\n",
    "\n",
    "# Testando o chatbot\n",
    "print(chatbot_aprendizado(\"Explique inteligência artificial.\"))\n"
   ]
  },
  {
   "cell_type": "code",
   "execution_count": null,
   "id": "178e847f",
   "metadata": {},
   "outputs": [],
   "source": [
    "\n",
    "# Criando um chatbot que decide automaticamente qual ação tomar\n",
    "\n",
    "def chatbot_decisor(pergunta):\n",
    "    if \"clima\" in pergunta.lower():\n",
    "        return buscar_clima(\"São Paulo\")\n",
    "    elif \"notícia\" in pergunta.lower():\n",
    "        return \"Buscando as últimas notícias...\"\n",
    "    elif \"investimento\" in pergunta.lower():\n",
    "        return \"Analisando tendências do mercado...\"\n",
    "    else:\n",
    "        return chatbot_aprendizado(pergunta)\n",
    "\n",
    "# Teste do chatbot autônomo\n",
    "print(chatbot_decisor(\"Como está o clima em São Paulo?\"))\n"
   ]
  },
  {
   "cell_type": "code",
   "execution_count": null,
   "id": "ed9c7db4",
   "metadata": {},
   "outputs": [],
   "source": [
    "\n",
    "# Criando automação para geração de alertas climáticos\n",
    "\n",
    "def monitorar_clima(cidade):\n",
    "    temp = 28  # Simulação de temperatura\n",
    "    if temp > 30:\n",
    "        return \"Alerta! Temperatura muito alta, recomendação: beba bastante água!\"\n",
    "    elif temp < 10:\n",
    "        return \"Alerta! Frio intenso, recomendação: use agasalhos pesados.\"\n",
    "    else:\n",
    "        return \"O clima está estável hoje.\"\n",
    "\n",
    "# Teste de monitoramento\n",
    "print(monitorar_clima(\"Rio de Janeiro\"))\n"
   ]
  },
  {
   "cell_type": "markdown",
   "id": "b5180112",
   "metadata": {},
   "source": [
    "\n",
    "## 🎯 Desafio para os alunos!\n",
    "1. Criar um chatbot que aprende sozinho e toma decisões baseadas em dados reais.\n",
    "2. Integrar o chatbot com pelo menos uma API externa.\n",
    "3. Criar um fluxo de automação completo baseado nas respostas do chatbot.\n",
    "\n",
    "---\n"
   ]
  }
 ],
 "metadata": {},
 "nbformat": 4,
 "nbformat_minor": 5
}

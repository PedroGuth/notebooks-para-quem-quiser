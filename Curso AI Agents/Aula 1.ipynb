{
 "cells": [
  {
   "cell_type": "markdown",
   "id": "e6698d63",
   "metadata": {},
   "source": [
    "\n",
    "# 🤖 Aula 1: O que é um AI Agent?\n",
    "\n",
    "Este notebook irá te guiar na exploração prática de um AI Agent usando a API da OpenAI.\n",
    "\n",
    "## 📌 O que faremos:\n",
    "1. Entender o conceito de AI Agents.\n",
    "2. Fazer chamadas à API do ChatGPT.\n",
    "3. Ajustar parâmetros para observar mudanças nas respostas.\n",
    "4. Completar um desafio prático!\n"
   ]
  },
  {
   "cell_type": "code",
   "execution_count": null,
   "id": "36430cfb",
   "metadata": {},
   "outputs": [],
   "source": [
    "\n",
    "# Instale a biblioteca se necessário\n",
    "!pip install openai\n"
   ]
  },
  {
   "cell_type": "code",
   "execution_count": null,
   "id": "16deec98",
   "metadata": {},
   "outputs": [],
   "source": [
    "\n",
    "import openai\n",
    "\n",
    "# Defina sua chave de API aqui (substitua 'SUA_CHAVE_AQUI' pela sua chave real)\n",
    "openai.api_key = \"SUA_CHAVE_AQUI\"\n"
   ]
  },
  {
   "cell_type": "code",
   "execution_count": null,
   "id": "d2e615ad",
   "metadata": {},
   "outputs": [],
   "source": [
    "\n",
    "def perguntar_ao_chatgpt(pergunta, temperatura=0.7):\n",
    "    resposta = openai.ChatCompletion.create(\n",
    "        model=\"gpt-4\",  # ou \"gpt-3.5-turbo\" se preferir\n",
    "        messages=[{\"role\": \"user\", \"content\": pergunta}],\n",
    "        temperature=temperatura\n",
    "    )\n",
    "    return resposta[\"choices\"][0][\"message\"][\"content\"]\n",
    "\n",
    "# Teste rápido\n",
    "pergunta = \"O que é um AI Agent? Explique de forma simples.\"\n",
    "print(perguntar_ao_chatgpt(pergunta))\n"
   ]
  },
  {
   "cell_type": "code",
   "execution_count": null,
   "id": "b9101c7e",
   "metadata": {},
   "outputs": [],
   "source": [
    "\n",
    "# Vamos testar diferentes temperaturas\n",
    "pergunta = \"Explique o conceito de um AI Agent em uma frase curta.\"\n",
    "\n",
    "print(\"Resposta com temperatura 0.2:\")\n",
    "print(perguntar_ao_chatgpt(pergunta, temperatura=0.2))\n",
    "\n",
    "print(\"Resposta com temperatura 0.9:\")\n",
    "print(perguntar_ao_chatgpt(pergunta, temperatura=0.9))\n"
   ]
  },
  {
   "cell_type": "markdown",
   "id": "c6bf6255",
   "metadata": {},
   "source": [
    "\n",
    "## 🎯 Desafio para os alunos!\n",
    "1. Faça perguntas ao AI Agent sobre diferentes tópicos.\n",
    "2. Teste ajustar a `temperature` e veja como isso afeta as respostas.\n",
    "3. Compartilhe sua descoberta no fórum do curso!\n"
   ]
  }
 ],
 "metadata": {},
 "nbformat": 4,
 "nbformat_minor": 5
}

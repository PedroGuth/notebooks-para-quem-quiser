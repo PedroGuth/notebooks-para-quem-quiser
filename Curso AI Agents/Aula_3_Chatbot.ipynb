{
 "cells": [
  {
   "cell_type": "markdown",
   "id": "bc3c60b3",
   "metadata": {},
   "source": [
    "\n",
    "# 🤖 Aula 3: Criando um Chatbot Simples\n",
    "\n",
    "Neste notebook, vamos construir um chatbot básico usando a API da OpenAI.\n",
    "\n",
    "## 📌 O que faremos:\n",
    "1. Configurar a API do OpenAI.\n",
    "2. Fazer chamadas à API para gerar respostas.\n",
    "3. Criar um chatbot interativo no terminal.\n",
    "4. Ajustar a criatividade das respostas.\n",
    "\n",
    "---\n"
   ]
  },
  {
   "cell_type": "code",
   "execution_count": null,
   "id": "36f10f7f",
   "metadata": {},
   "outputs": [],
   "source": [
    "\n",
    "# Instale a biblioteca OpenAI se ainda não estiver instalada\n",
    "!pip install openai\n"
   ]
  },
  {
   "cell_type": "code",
   "execution_count": null,
   "id": "06194448",
   "metadata": {},
   "outputs": [],
   "source": [
    "\n",
    "import openai\n",
    "\n",
    "# Defina sua chave de API (substitua 'SUA_CHAVE_AQUI' pela chave real)\n",
    "openai.api_key = \"SUA_CHAVE_AQUI\"\n"
   ]
  },
  {
   "cell_type": "code",
   "execution_count": null,
   "id": "26e47e0b",
   "metadata": {},
   "outputs": [],
   "source": [
    "\n",
    "# Testando a API com uma pergunta simples\n",
    "resposta = openai.ChatCompletion.create(\n",
    "    model=\"gpt-4\",\n",
    "    messages=[{\"role\": \"user\", \"content\": \"O que é um AI Agent?\"}]\n",
    ")\n",
    "\n",
    "print(resposta[\"choices\"][0][\"message\"][\"content\"])\n"
   ]
  },
  {
   "cell_type": "code",
   "execution_count": null,
   "id": "fb72d6b0",
   "metadata": {},
   "outputs": [],
   "source": [
    "\n",
    "# Testando diferentes níveis de temperatura para criatividade\n",
    "pergunta = \"Explique inteligência artificial de forma simples.\"\n",
    "\n",
    "resposta_1 = openai.ChatCompletion.create(\n",
    "    model=\"gpt-4\",\n",
    "    messages=[{\"role\": \"user\", \"content\": pergunta}],\n",
    "    temperature=0.2,\n",
    "    max_tokens=50\n",
    ")\n",
    "print(\"Resposta com temperatura 0.2:\")\n",
    "print(resposta_1[\"choices\"][0][\"message\"][\"content\"])\n",
    "\n",
    "resposta_2 = openai.ChatCompletion.create(\n",
    "    model=\"gpt-4\",\n",
    "    messages=[{\"role\": \"user\", \"content\": pergunta}],\n",
    "    temperature=0.9,\n",
    "    max_tokens=50\n",
    ")\n",
    "print(\"Resposta com temperatura 0.9:\")\n",
    "print(resposta_2[\"choices\"][0][\"message\"][\"content\"])\n"
   ]
  },
  {
   "cell_type": "code",
   "execution_count": null,
   "id": "49befed6",
   "metadata": {},
   "outputs": [],
   "source": [
    "\n",
    "def chatbot():\n",
    "    print(\"Chatbot ativado! Digite 'sair' para encerrar.\")\n",
    "    while True:\n",
    "        user_input = input(\"Você: \")\n",
    "        if user_input.lower() == \"sair\":\n",
    "            print(\"Chatbot desligado!\")\n",
    "            break\n",
    "        resposta = openai.ChatCompletion.create(\n",
    "            model=\"gpt-4\",\n",
    "            messages=[{\"role\": \"user\", \"content\": user_input}]\n",
    "        )\n",
    "        print(\"Bot:\", resposta[\"choices\"][0][\"message\"][\"content\"])\n",
    "\n",
    "# Executar o chatbot\n",
    "chatbot()\n"
   ]
  },
  {
   "cell_type": "markdown",
   "id": "6a9520a9",
   "metadata": {},
   "source": [
    "\n",
    "## 🎯 Desafio para os alunos!\n",
    "1. Modifique o chatbot para responder de forma mais engraçada.\n",
    "2. Faça com que ele lembre o nome do usuário ao longo da conversa.\n",
    "3. Compartilhe suas modificações e aprendizados no fórum do curso!\n",
    "\n",
    "---\n"
   ]
  }
 ],
 "metadata": {},
 "nbformat": 4,
 "nbformat_minor": 5
}

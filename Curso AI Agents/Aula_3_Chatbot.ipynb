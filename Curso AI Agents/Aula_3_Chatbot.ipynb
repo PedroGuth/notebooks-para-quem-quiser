{
 "cells": [
  {
   "cell_type": "markdown",
   "id": "bc3c60b3",
   "metadata": {},
   "source": [
    "# 🤖 Aula 3: Criando um Chatbot Simples\n",
    "\n",
    "Neste notebook, vamos construir um chatbot básico usando a API da OpenAI, com foco em conceitos técnicos, matemáticos e exemplos de código mais robustos.\n",
    "\n",
    "## 📌 O que faremos:\n",
    "1. Configurar a API do OpenAI.\n",
    "2. Fazer chamadas à API para gerar respostas.\n",
    "3. Criar um chatbot interativo no terminal.\n",
    "4. Ajustar a criatividade das respostas.\n",
    "5. Explorar conceitos matemáticos e técnicos por trás dos chatbots.\n"
   ]
  },
  {
   "cell_type": "markdown",
   "id": "d2e615ad",
   "metadata": {},
   "source": [
    "## 🧠 Conceitos Técnicos e Matemáticos\n",
    "\n",
    "### Como Funciona um Chatbot?\n",
    "Um chatbot é um sistema que usa modelos de linguagem para gerar respostas com base em entradas de texto. Ele é baseado em **redes neurais** que aprendem a prever a próxima palavra em uma sequência.\n",
    "\n",
    "A probabilidade de uma sequência de palavras é dada por:\n",
    "\n",
    "$$ P(w_1, w_2, \\dots, w_n) = \\prod_{i=1}^n P(w_i \\mid w_1, w_2, \\dots, w_{i-1}) $$\n",
    "\n",
    "Onde:\n",
    "- **$w_i$**: Palavra na posição $i$.\n",
    "- **$P(w_i \\mid w_1, w_2, \\dots, w_{i-1})$**: Probabilidade da palavra $w_i$ dado o contexto anterior.\n",
    "\n",
    "### Parâmetros de um Modelo de Linguagem\n",
    "- **Temperature**: Controla a aleatoriedade das respostas. Valores baixos (ex.: 0.2) geram respostas mais determinísticas, enquanto valores altos (ex.: 0.9) geram respostas mais criativas.\n",
    "- **Max Tokens**: Limita o tamanho da resposta gerada.\n",
    "- **Top-p (Nucleus Sampling)**: Controla a diversidade das respostas, selecionando apenas as palavras mais prováveis.\n"
   ]
  },
  {
   "cell_type": "code",
   "execution_count": null,
   "id": "36f10f7f",
   "metadata": {},
   "outputs": [],
   "source": [
    "# Instale a biblioteca OpenAI se ainda não estiver instalada\n",
    "!pip install openai"
   ]
  },
  {
   "cell_type": "code",
   "execution_count": null,
   "id": "06194448",
   "metadata": {},
   "outputs": [],
   "source": [
    "import openai\n",
    "\n",
    "# Defina sua chave de API (substitua 'SUA_CHAVE_AQUI' pela chave real)\n",
    "openai.api_key = \"SUA_CHAVE_AQUI\""
   ]
  },
  {
   "cell_type": "code",
   "execution_count": null,
   "id": "26e47e0b",
   "metadata": {},
   "outputs": [],
   "source": [
    "# Testando a API com uma pergunta simples\n",
    "resposta = openai.ChatCompletion.create(\n",
    "    model=\"gpt-4\",\n",
    "    messages=[{\"role\": \"user\", \"content\": \"O que é um AI Agent?\"}]\n",
    ")\n",
    "\n",
    "print(resposta[\"choices\"][0][\"message\"][\"content\"])"
   ]
  },
  {
   "cell_type": "code",
   "execution_count": null,
   "id": "fb72d6b0",
   "metadata": {},
   "outputs": [],
   "source": [
    "# Testando diferentes níveis de temperatura para criatividade\n",
    "pergunta = \"Explique inteligência artificial de forma simples.\"\n",
    "\n",
    "resposta_1 = openai.ChatCompletion.create(\n",
    "    model=\"gpt-4\",\n",
    "    messages=[{\"role\": \"user\", \"content\": pergunta}],\n",
    "    temperature=0.2,\n",
    "    max_tokens=50\n",
    ")\n",
    "print(\"Resposta com temperatura 0.2:\")\n",
    "print(resposta_1[\"choices\"][0][\"message\"][\"content\"])\n",
    "\n",
    "resposta_2 = openai.ChatCompletion.create(\n",
    "    model=\"gpt-4\",\n",
    "    messages=[{\"role\": \"user\", \"content\": pergunta}],\n",
    "    temperature=0.9,\n",
    "    max_tokens=50\n",
    ")\n",
    "print(\"Resposta com temperatura 0.9:\")\n",
    "print(resposta_2[\"choices\"][0][\"message\"][\"content\"])"
   ]
  },
  {
   "cell_type": "code",
   "execution_count": null,
   "id": "49befed6",
   "metadata": {},
   "outputs": [],
   "source": [
    "def chatbot():\n",
    "    print(\"Chatbot ativado! Digite 'sair' para encerrar.\")\n",
    "    while True:\n",
    "        user_input = input(\"Você: \")\n",
    "        if user_input.lower() == \"sair\":\n",
    "            print(\"Chatbot desligado!\")\n",
    "            break\n",
    "        resposta = openai.ChatCompletion.create(\n",
    "            model=\"gpt-4\",\n",
    "            messages=[{\"role\": \"user\", \"content\": user_input}]\n",
    "        )\n",
    "        print(\"Bot:\", resposta[\"choices\"][0][\"message\"][\"content\"])\n",
    "\n",
    "# Executar o chatbot\n",
    "chatbot()"
   ]
  },
  {
   "cell_type": "markdown",
   "id": "f1e8a1b2",
   "metadata": {},
   "source": [
    "## 🛠️ Exemplo Prático: Chatbot com Memória\n",
    "\n",
    "Vamos criar um chatbot que lembra o nome do usuário e mantém um histórico de conversas.\n"
   ]
  },
  {
   "cell_type": "code",
   "execution_count": null,
   "id": "a1b2c3d4",
   "metadata": {},
   "outputs": [],
   "source": [
    "class ChatbotComMemoria:\n",
    "    def __init__(self):\n",
    "        self.historico = []\n",
    "        self.nome_usuario = None\n",
    "\n",
    "    def perguntar(self, pergunta):\n",
    "        if self.nome_usuario is None and \"meu nome é\" in pergunta.lower():\n",
    "            self.nome_usuario = pergunta.split(\"meu nome é\")[1].strip()\n",
    "            return f\"Prazer em conhecê-lo, {self.nome_usuario}! Como posso ajudar?\"\n",
    "\n",
    "        resposta = openai.ChatCompletion.create(\n",
    "            model=\"gpt-4\",\n",
    "            messages=[{\"role\": \"user\", \"content\": pergunta}]\n",
    "        )\n",
    "        resposta_texto = resposta[\"choices\"][0][\"message\"][\"content\"]\n",
    "        self.historico.append((pergunta, resposta_texto))\n",
    "        return resposta_texto\n",
    "\n",
    "    def mostrar_historico(self):\n",
    "        for i, (pergunta, resposta) in enumerate(self.historico):\n",
    "            print(f\"Interação {i+1}:\")\n",
    "            print(f\"Pergunta: {pergunta}\")\n",
    "            print(f\"Resposta: {resposta}\")\n",
    "            print(\"-\" * 50)\n",
    "\n",
    "# Testando o chatbot com memória\n",
    "bot = ChatbotComMemoria()\n",
    "print(bot.perguntar(\"Meu nome é João.\"))\n",
    "print(bot.perguntar(\"O que é um AI Agent?\"))\n",
    "bot.mostrar_historico()"
   ]
  },
  {
   "cell_type": "markdown",
   "id": "e8f1a2b3",
   "metadata": {},
   "source": [
    "## 🎯 Desafios Técnicos\n",
    "\n",
    "1. **Desafio 1:** Modifique o chatbot para responder de forma mais engraçada, usando uma temperatura mais alta.\n",
    "2. **Desafio 2:** Implemente um sistema de **memória de longo prazo** usando um banco de dados simples (ex.: SQLite) para armazenar conversas antigas.\n",
    "3. **Desafio 3:** Crie um chatbot que usa embeddings para comparar a similaridade entre perguntas e sugerir respostas baseadas em interações anteriores.\n",
    "\n",
    "Compartilhe suas soluções no fórum do curso!"
   ]
  }
 ],
 "metadata": {},
 "nbformat": 4,
 "nbformat_minor": 5
}

{
 "cells": [
  {
   "cell_type": "markdown",
   "id": "64d016cd",
   "metadata": {},
   "source": [
    "\n",
    "# 🤖 Aula 6: Criando um Chatbot que Aprende Sozinho\n",
    "\n",
    "Neste notebook, vamos construir um chatbot que aprende com as interações dos usuários.\n",
    "\n",
    "## 📌 O que faremos:\n",
    "1. Criar um histórico de mensagens para aprendizado contínuo.\n",
    "2. Implementar um chatbot que ajusta suas respostas com base no feedback do usuário.\n",
    "3. Testar personalização e adaptação do chatbot.\n",
    "\n",
    "---\n"
   ]
  },
  {
   "cell_type": "code",
   "execution_count": null,
   "id": "dab65eb6",
   "metadata": {},
   "outputs": [],
   "source": [
    "\n",
    "# Instale a biblioteca OpenAI se ainda não estiver instalada\n",
    "!pip install openai json\n"
   ]
  },
  {
   "cell_type": "code",
   "execution_count": null,
   "id": "57f908aa",
   "metadata": {},
   "outputs": [],
   "source": [
    "\n",
    "import openai\n",
    "import json\n",
    "\n",
    "# Defina sua chave de API (substitua 'SUA_CHAVE_AQUI' pela chave real)\n",
    "openai.api_key = \"SUA_CHAVE_AQUI\"\n"
   ]
  },
  {
   "cell_type": "code",
   "execution_count": null,
   "id": "6e2a4f80",
   "metadata": {},
   "outputs": [],
   "source": [
    "\n",
    "# Criando um histórico de interações para aprendizado contínuo\n",
    "historico = []\n",
    "\n",
    "def chatbot_aprendiz(pergunta):\n",
    "    historico.append({\"role\": \"user\", \"content\": pergunta})\n",
    "    resposta = openai.ChatCompletion.create(\n",
    "        model=\"gpt-4\",\n",
    "        messages=historico\n",
    "    )\n",
    "    mensagem = resposta[\"choices\"][0][\"message\"][\"content\"]\n",
    "    historico.append({\"role\": \"assistant\", \"content\": mensagem})\n",
    "    \n",
    "    # Salvando histórico em um arquivo JSON\n",
    "    with open(\"historico.json\", \"w\") as f:\n",
    "        json.dump(historico, f, indent=4)\n",
    "    \n",
    "    return mensagem\n",
    "\n",
    "# Teste do chatbot\n",
    "print(chatbot_aprendiz(\"Qual é a capital da França?\"))\n",
    "print(chatbot_aprendiz(\"E qual é a minha cor favorita?\"))\n"
   ]
  },
  {
   "cell_type": "code",
   "execution_count": null,
   "id": "c2c96676",
   "metadata": {},
   "outputs": [],
   "source": [
    "\n",
    "# Adicionando feedback para aprendizado contínuo\n",
    "def chatbot_com_feedback(pergunta):\n",
    "    resposta = chatbot_aprendiz(pergunta)\n",
    "    print(\"Bot:\", resposta)\n",
    "    feedback = input(\"Isso ajudou? (Sim/Não) \").strip().lower()\n",
    "    \n",
    "    if feedback == \"não\":\n",
    "        print(\"Obrigado! Vou melhorar minha resposta na próxima vez.\")\n",
    "    \n",
    "    return resposta\n",
    "\n",
    "# Testando com feedback\n",
    "print(chatbot_com_feedback(\"Me fale sobre inteligência artificial.\"))\n"
   ]
  },
  {
   "cell_type": "code",
   "execution_count": null,
   "id": "f43afff7",
   "metadata": {},
   "outputs": [],
   "source": [
    "\n",
    "# Criando um chatbot que lembra do usuário\n",
    "usuarios = {}\n",
    "\n",
    "def chatbot_personalizado(nome, pergunta):\n",
    "    if nome not in usuarios:\n",
    "        usuarios[nome] = []\n",
    "    \n",
    "    usuarios[nome].append(pergunta)\n",
    "    \n",
    "    resposta = chatbot_aprendiz(pergunta)\n",
    "    \n",
    "    return f\"{nome}, baseado no que já conversamos, aqui está minha resposta: {resposta}\"\n",
    "\n",
    "# Teste de personalização\n",
    "print(chatbot_personalizado(\"Carlos\", \"Qual celular devo comprar?\"))\n",
    "print(chatbot_personalizado(\"Carlos\", \"Qual minha preferência de marca?\"))\n"
   ]
  },
  {
   "cell_type": "markdown",
   "id": "06705cb3",
   "metadata": {},
   "source": [
    "\n",
    "## 🎯 Desafio para os alunos!\n",
    "1. Criar um chatbot que lembra informações do usuário ao longo do tempo.\n",
    "2. Implementar um mecanismo de feedback para melhorar respostas.\n",
    "3. Testar personalização e adaptação do chatbot em conversas mais longas.\n",
    "\n",
    "---\n"
   ]
  }
 ],
 "metadata": {},
 "nbformat": 4,
 "nbformat_minor": 5
}

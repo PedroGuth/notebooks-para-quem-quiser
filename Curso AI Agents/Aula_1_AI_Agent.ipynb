{
 "cells": [
  {
   "cell_type": "markdown",
   "id": "e6698d63",
   "metadata": {},
   "source": [
    "\n",
    "# 🤖 Aula 1: O que é um AI Agent?\n",
    "\n",
    "Este notebook irá te guiar na exploração prática de um AI Agent usando a API da OpenAI. \n",
    "Mas antes, vamos entender melhor os conceitos teóricos por trás dos agentes inteligentes.\n",
    "\n",
    "## 📌 O que faremos:\n",
    "1. **Entender o conceito de AI Agents**: Definição, tipos e aplicações reais.\n",
    "2. **Fundamentação matemática**: Como os agentes tomam decisões com base em Markov Decision Process (MDP).\n",
    "3. **Explorar a API da OpenAI**: Fazer chamadas e ajustar parâmetros para testar diferentes comportamentos.\n",
    "4. **Criar um mini-simulador**: Para visualizar como diferentes configurações impactam o comportamento do agente.\n",
    "5. **Completar um desafio prático!**\n",
    "\n",
    "---\n",
    "\n",
    "## 📖 O que é um AI Agent?\n",
    "\n",
    "Um **AI Agent** é um sistema que **percebe** o ambiente, **processa informações** e **toma decisões** para alcançar um objetivo.\n",
    "\n",
    "### Tipos de AI Agents:\n",
    "\n",
    "1. **Agentes Reativos Simples**: Não armazenam memória, respondem apenas ao estado atual.\n",
    "2. **Agentes Baseados em Modelo**: Têm um modelo interno do ambiente e podem prever estados futuros.\n",
    "3. **Agentes Baseados em Objetivo**: Avaliam as melhores ações para alcançar um objetivo.\n",
    "4. **Agentes Baseados em Utilidade**: Consideram múltiplas opções e escolhem a melhor decisão com base em uma função de utilidade.\n",
    "\n",
    "### Introdução Matemática\n",
    "\n",
    "AI Agents podem ser modelados matematicamente como um **Markov Decision Process (MDP)**:\n",
    "\n",
    "- Um **MDP** é definido por um conjunto de estados \\( S \\), um conjunto de ações \\( A \\), uma função de transição \\( P(s' | s, a) \\) e uma função de recompensa \\( R(s, a) \\).\n",
    "- O objetivo do agente é encontrar uma **política ótima** \\( \\pi(s) \\) que maximize a recompensa acumulada ao longo do tempo.\n",
    "\n"
   ]
  },
  {
   "cell_type": "code",
   "execution_count": null,
   "id": "36430cfb",
   "metadata": {},
   "outputs": [],
   "source": [
    "\n",
    "# Instale a biblioteca se necessário\n",
    "!pip install openai\n"
   ]
  },
  {
   "cell_type": "code",
   "execution_count": null,
   "id": "16deec98",
   "metadata": {},
   "outputs": [],
   "source": [
    "\n",
    "import openai\n",
    "\n",
    "# Defina sua chave de API aqui (substitua 'SUA_CHAVE_AQUI' pela sua chave real)\n",
    "openai.api_key = \"SUA_CHAVE_AQUI\"\n"
   ]
  },
  {
   "cell_type": "code",
   "execution_count": null,
   "id": "d2e615ad",
   "metadata": {},
   "outputs": [],
   "source": [
    "\n",
    "# Instale as bibliotecas necessárias\n",
    "!pip install openai numpy matplotlib\n",
    "\n",
    "import openai\n",
    "import numpy as np\n",
    "import matplotlib.pyplot as plt\n",
    "\n",
    "# Defina sua chave de API aqui (substitua 'SUA_CHAVE_AQUI' pela sua chave real)\n",
    "openai.api_key = \"SUA_CHAVE_AQUI\"\n",
    "\n",
    "def perguntar_ao_chatgpt(pergunta, temperatura=0.7, max_tokens=100):\n",
    "    resposta = openai.ChatCompletion.create(\n",
    "        model=\"gpt-4\",  # ou \"gpt-3.5-turbo\" se preferir\n",
    "        messages=[{\"role\": \"user\", \"content\": pergunta}],\n",
    "        temperature=temperatura,\n",
    "        max_tokens=max_tokens\n",
    "    )\n",
    "    return resposta[\"choices\"][0][\"message\"][\"content\"]\n",
    "\n",
    "# Simulação: Explorando Temperaturas\n",
    "pergunta = \"Explique o conceito de um AI Agent em uma frase curta.\"\n",
    "\n",
    "temperaturas = np.linspace(0, 1, 5)  # Testaremos 5 níveis de temperatura\n",
    "respostas = [perguntar_ao_chatgpt(pergunta, temperatura=t) for t in temperaturas]\n",
    "\n",
    "# Gráfico ilustrando as variações\n",
    "plt.figure(figsize=(10, 5))\n",
    "plt.plot(temperaturas, [len(r) for r in respostas], marker='o', linestyle='-', color='b')\n",
    "plt.xlabel(\"Temperature\")\n",
    "plt.ylabel(\"Comprimento da resposta (número de caracteres)\")\n",
    "plt.title(\"Impacto da Temperatura nas Respostas do AI Agent\")\n",
    "plt.grid(True)\n",
    "plt.show()\n"
   ]
  },
  {
   "cell_type": "code",
   "execution_count": null,
   "id": "b9101c7e",
   "metadata": {},
   "outputs": [],
   "source": [
    "\n",
    "# Vamos testar diferentes temperaturas\n",
    "pergunta = \"Explique o conceito de um AI Agent em uma frase curta.\"\n",
    "\n",
    "print(\"Resposta com temperatura 0.2:\")\n",
    "print(perguntar_ao_chatgpt(pergunta, temperatura=0.2))\n",
    "\n",
    "print(\"Resposta com temperatura 0.9:\")\n",
    "print(perguntar_ao_chatgpt(pergunta, temperatura=0.9))\n"
   ]
  },
  {
   "cell_type": "markdown",
   "id": "c6bf6255",
   "metadata": {},
   "source": [
    "\n",
    "## 🎯 Desafio para os alunos!\n",
    "1. Faça perguntas ao AI Agent sobre diferentes tópicos.\n",
    "2. Teste ajustar a `temperature` e veja como isso afeta as respostas.\n",
    "3. Compartilhe sua descoberta no fórum do curso!\n"
   ]
  }
 ],
 "metadata": {},
 "nbformat": 4,
 "nbformat_minor": 5
}

{
 "cells": [
  {
   "cell_type": "markdown",
   "id": "e6698d63",
   "metadata": {},
   "source": [
    "# 🤖 Aula 1: O que é um AI Agent?\n",
    "\n",
    "Este notebook irá te guiar na exploração prática de um AI Agent usando a API da OpenAI, com foco em conceitos técnicos, matemáticos e exemplos de código mais robustos.\n",
    "\n",
    "## 📌 O que faremos:\n",
    "1. Entender o conceito de AI Agents e sua base matemática.\n",
    "2. Explorar o funcionamento de modelos de linguagem como GPT.\n",
    "3. Fazer chamadas à API do ChatGPT com ajustes de parâmetros.\n",
    "4. Implementar um exemplo prático de um AI Agent simples.\n",
    "5. Completar desafios técnicos!\n"
   ]
  },
  {
   "cell_type": "markdown",
   "id": "d2e615ad",
   "metadata": {},
   "source": [
    "## 🧠 Conceitos Técnicos e Matemáticos\n",
    "\n",
    "### O que é um AI Agent?\n",
    "Um **AI Agent** é um sistema autônomo que percebe seu ambiente, toma decisões e age para atingir objetivos específicos. Ele é baseado em modelos de aprendizado de máquina, como redes neurais, e pode ser formalizado como uma tupla:\n",
    "\n",
    "$$ \\text{AI Agent} = (S, A, P, R, \\gamma) $$\n",
    "\n",
    "- **S**: Conjunto de estados possíveis.\n",
    "- **A**: Conjunto de ações possíveis.\n",
    "- **P**: Função de transição de estados.\n",
    "- **R**: Função de recompensa.\n",
    "- **$\\gamma$**: Fator de desconto (importância de recompensas futuras).\n",
    "\n",
    "### Modelos de Linguagem como GPT\n",
    "Os modelos GPT (Generative Pre-trained Transformer) são baseados em arquiteturas de **transformers**, que usam mecanismos de atenção para processar sequências de texto. A probabilidade de uma sequência de palavras é dada por:\n",
    "\n",
    "$$ P(w_1, w_2, \\dots, w_n) = \\prod_{i=1}^n P(w_i \\mid w_1, w_2, \\dots, w_{i-1}) $$\n",
    "\n",
    "Onde:\n",
    "- **$w_i$**: Palavra na posição $i$.\n",
    "- **$P(w_i \\mid w_1, w_2, \\dots, w_{i-1})$**: Probabilidade da palavra $w_i$ dado o contexto anterior.\n",
    "\n",
    "### Parâmetros de um Modelo de Linguagem\n",
    "- **Temperature**: Controla a aleatoriedade das respostas. Valores baixos (ex.: 0.2) geram respostas mais determinísticas, enquanto valores altos (ex.: 0.9) geram respostas mais criativas.\n",
    "- **Max Tokens**: Limita o tamanho da resposta gerada.\n",
    "- **Top-p (Nucleus Sampling)**: Controla a diversidade das respostas, selecionando apenas as palavras mais prováveis.\n"
   ]
  },
  {
   "cell_type": "code",
   "execution_count": null,
   "id": "36430cfb",
   "metadata": {},
   "outputs": [],
   "source": [
    "# Instale a biblioteca se necessário\n",
    "!pip install openai"
   ]
  },
  {
   "cell_type": "code",
   "execution_count": null,
   "id": "16deec98",
   "metadata": {},
   "outputs": [],
   "source": [
    "import openai\n",
    "\n",
    "# Defina sua chave de API aqui (substitua 'SUA_CHAVE_AQUI' pela sua chave real)\n",
    "openai.api_key = \"SUA_CHAVE_AQUI\""
   ]
  },
  {
   "cell_type": "code",
   "execution_count": null,
   "id": "b9101c7e",
   "metadata": {},
   "outputs": [],
   "source": [
    "def perguntar_ao_chatgpt(pergunta, temperatura=0.7, max_tokens=100, top_p=1.0):\n",
    "    resposta = openai.ChatCompletion.create(\n",
    "        model=\"gpt-4\",  # ou \"gpt-3.5-turbo\" se preferir\n",
    "        messages=[{\"role\": \"user\", \"content\": pergunta}],\n",
    "        temperature=temperatura,\n",
    "        max_tokens=max_tokens,\n",
    "        top_p=top_p\n",
    "    )\n",
    "    return resposta[\"choices\"][0][\"message\"][\"content\"]\n",
    "\n",
    "# Teste rápido\n",
    "pergunta = \"O que é um AI Agent? Explique de forma técnica.\"\n",
    "print(perguntar_ao_chatgpt(pergunta))"
   ]
  },
  {
   "cell_type": "code",
   "execution_count": null,
   "id": "c6bf6255",
   "metadata": {},
   "outputs": [],
   "source": [
    "# Vamos testar diferentes temperaturas e top_p\n",
    "pergunta = \"Explique o conceito de um AI Agent em uma frase curta.\"\n",
    "\n",
    "print(\"Resposta com temperatura 0.2 (determinística):\")\n",
    "print(perguntar_ao_chatgpt(pergunta, temperatura=0.2))\n",
    "\n",
    "print(\"Resposta com temperatura 0.9 (criativa):\")\n",
    "print(perguntar_ao_chatgpt(pergunta, temperatura=0.9))\n",
    "\n",
    "print(\"Resposta com top_p=0.5 (mais focada):\")\n",
    "print(perguntar_ao_chatgpt(pergunta, top_p=0.5))"
   ]
  },
  {
   "cell_type": "markdown",
   "id": "f1e8a1b2",
   "metadata": {},
   "source": [
    "## 🛠️ Implementando um AI Agent Simples\n",
    "\n",
    "Vamos criar um AI Agent que responde perguntas e mantém um histórico de conversas.\n"
   ]
  },
  {
   "cell_type": "code",
   "execution_count": null,
   "id": "a1b2c3d4",
   "metadata": {},
   "outputs": [],
   "source": [
    "class AIAgent:\n",
    "    def __init__(self, nome):\n",
    "        self.nome = nome\n",
    "        self.historico = []\n",
    "\n",
    "    def perguntar(self, pergunta):\n",
    "        resposta = perguntar_ao_chatgpt(pergunta)\n",
    "        self.historico.append((pergunta, resposta))\n",
    "        return resposta\n",
    "\n",
    "    def mostrar_historico(self):\n",
    "        for i, (pergunta, resposta) in enumerate(self.historico):\n",
    "            print(f\"Interação {i+1}:\")\n",
    "            print(f\"Pergunta: {pergunta}\")\n",
    "            print(f\"Resposta: {resposta}\")\n",
    "            print(\"-\" * 50)\n",
    "\n",
    "# Testando o AI Agent\n",
    "agent = AIAgent(\"AgentX\")\n",
    "print(agent.perguntar(\"O que é um AI Agent?\"))\n",
    "print(agent.perguntar(\"Como um AI Agent aprende?\"))\n",
    "agent.mostrar_historico()"
   ]
  },
  {
   "cell_type": "markdown",
   "id": "e8f1a2b3",
   "metadata": {},
   "source": [
    "## 🎯 Desafios Técnicos\n",
    "\n",
    "1. **Desafio 1:** Modifique o AI Agent para incluir um sistema de recompensa simples. Por exemplo, dê uma pontuação para cada resposta com base na relevância.\n",
    "2. **Desafio 2:** Implemente um mecanismo de **memória de longo prazo** usando um banco de dados simples (ex.: SQLite) para armazenar conversas antigas.\n",
    "3. **Desafio 3:** Crie um AI Agent que integre uma API externa (ex.: Wikipedia) para responder perguntas com base em pesquisas reais.\n",
    "\n",
    "Compartilhe suas soluções no fórum do curso!"
   ]
  }
 ],
 "metadata": {},
 "nbformat": 4,
 "nbformat_minor": 5
}

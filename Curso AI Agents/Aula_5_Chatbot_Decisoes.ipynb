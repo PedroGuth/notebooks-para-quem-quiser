{
 "cells": [
  {
   "cell_type": "markdown",
   "id": "5ef1ae9d",
   "metadata": {},
   "source": [
    "# 🤖 Aula 5: Criando um Chatbot que Toma Decisões\n",
    "\n",
    "Neste notebook, vamos construir um chatbot que pode tomar decisões e realizar ações automaticamente, com foco em conceitos técnicos, matemáticos e exemplos de código mais robustos.\n",
    "\n",
    "## 📌 O que faremos:\n",
    "1. Criar um chatbot que avalia perguntas e escolhe respostas apropriadas.\n",
    "2. Integrar chamadas a APIs externas para obter dados em tempo real.\n",
    "3. Automatizar tarefas como lembretes e notificações.\n",
    "4. Explorar conceitos matemáticos e técnicos por trás da tomada de decisões.\n"
   ]
  },
  {
   "cell_type": "markdown",
   "id": "d2e615ad",
   "metadata": {},
   "source": [
    "## 🧠 Conceitos Técnicos e Matemáticos\n",
    "\n",
    "### Tomada de Decisões em AI Agents\n",
    "Um AI Agent toma decisões com base em **regras pré-definidas** ou **aprendizado de máquina**. A decisão pode ser modelada como uma função que mapeia entradas (perguntas) para saídas (ações ou respostas):\n",
    "\n",
    "$$ D: \\text{Entrada} \\rightarrow \\text{Ação} $$\n",
    "\n",
    "Onde:\n",
    "- **Entrada**: Pergunta ou comando do usuário.\n",
    "- **Ação**: Resposta ou tarefa executada pelo chatbot.\n",
    "\n",
    "### Integração com APIs Externas\n",
    "APIs externas permitem que o chatbot acesse dados em tempo real, como previsão do tempo, notícias ou informações de banco de dados. A integração é feita através de requisições HTTP, como GET ou POST.\n",
    "\n",
    "### Automação de Tarefas\n",
    "A automação envolve a execução de tarefas repetitivas ou programadas, como enviar e-mails, criar lembretes ou atualizar planilhas. Isso pode ser feito usando bibliotecas como `requests`, `smtplib` ou `schedule`.\n"
   ]
  },
  {
   "cell_type": "code",
   "execution_count": null,
   "id": "8c35a5d1",
   "metadata": {},
   "outputs": [],
   "source": [
    "# Instale as bibliotecas necessárias\n",
    "!pip install openai requests schedule"
   ]
  },
  {
   "cell_type": "code",
   "execution_count": null,
   "id": "8088c538",
   "metadata": {},
   "outputs": [],
   "source": [
    "import openai\n",
    "import requests\n",
    "import schedule\n",
    "import time\n",
    "\n",
    "# Defina sua chave de API (substitua 'SUA_CHAVE_AQUI' pela chave real)\n",
    "openai.api_key = \"SUA_CHAVE_AQUI\""
   ]
  },
  {
   "cell_type": "code",
   "execution_count": null,
   "id": "0c1a1390",
   "metadata": {},
   "outputs": [],
   "source": [
    "# Chatbot que toma decisões baseado na entrada do usuário\n",
    "def chatbot_decisao(pergunta):\n",
    "    if \"clima\" in pergunta.lower():\n",
    "        return \"Quer que eu busque a previsão do tempo para você?\"\n",
    "    elif \"notícia\" in pergunta.lower():\n",
    "        return \"Posso te mostrar as últimas manchetes de hoje!\"\n",
    "    elif \"lembrete\" in pergunta.lower():\n",
    "        return \"Qual lembrete você gostaria de criar?\"\n",
    "    else:\n",
    "        return \"Não tenho certeza, mas posso pesquisar isso para você!\"\n",
    "\n",
    "# Teste do chatbot\n",
    "print(chatbot_decisao(\"Como está o clima hoje?\"))\n",
    "print(chatbot_decisao(\"Quais são as notícias mais recentes?\"))"
   ]
  },
  {
   "cell_type": "code",
   "execution_count": null,
   "id": "b43bebbb",
   "metadata": {},
   "outputs": [],
   "source": [
    "# Função para buscar a previsão do tempo\n",
    "def buscar_clima(cidade=\"São Paulo\"):\n",
    "    api_key = \"SUA_CHAVE_DE_CLIMA\"  # Substitua pela sua chave da API de clima\n",
    "    url = f\"https://api.weatherapi.com/v1/current.json?key={api_key}&q={cidade}\"\n",
    "    resposta = requests.get(url).json()\n",
    "    return f\"A temperatura em {cidade} é {resposta['current']['temp_c']}°C.\"\n",
    "\n",
    "# Teste da função\n",
    "print(buscar_clima(\"Rio de Janeiro\"))"
   ]
  },
  {
   "cell_type": "code",
   "execution_count": null,
   "id": "4b816976",
   "metadata": {},
   "outputs": [],
   "source": [
    "# Chatbot aprimorado que toma decisões e realiza ações\n",
    "def chatbot_avancado(pergunta):\n",
    "    if \"clima\" in pergunta.lower():\n",
    "        return buscar_clima()\n",
    "    elif \"notícia\" in pergunta.lower():\n",
    "        return \"Aqui estão as notícias mais recentes! (Exemplo)\"\n",
    "    elif \"lembrete\" in pergunta.lower():\n",
    "        return \"Me diga o que eu devo lembrar e o horário.\"\n",
    "    else:\n",
    "        return \"Me diga como posso ajudar!\"\n",
    "\n",
    "# Teste do chatbot\n",
    "print(chatbot_avancado(\"Me diga como está o clima em Salvador.\"))"
   ]
  },
  {
   "cell_type": "code",
   "execution_count": null,
   "id": "c0b7ccc5",
   "metadata": {},
   "outputs": [],
   "source": [
    "import datetime\n",
    "\n",
    "# Função para criar um lembrete\n",
    "def criar_lembrete(texto, hora):\n",
    "    return f\"Lembrete criado: {texto} às {hora}!\"\n",
    "\n",
    "# Teste do lembrete\n",
    "print(criar_lembrete(\"Reunião de equipe\", \"14:00\"))"
   ]
  },
  {
   "cell_type": "markdown",
   "id": "f1e8a1b2",
   "metadata": {},
   "source": [
    "## 🛠️ Exemplo Prático: Chatbot com Automação de Tarefas\n",
    "\n",
    "Vamos criar um chatbot que agenda lembretes e os executa automaticamente.\n"
   ]
  },
  {
   "cell_type": "code",
   "execution_count": null,
   "id": "a1b2c3d4",
   "metadata": {},
   "outputs": [],
   "source": [
    "def notificar_lembrete(texto):\n",
    "    print(f\"Lembrete: {texto}\")\n",
    "\n",
    "def agendar_lembrete(texto, hora):\n",
    "    schedule.every().day.at(hora).do(notificar_lembrete, texto)\n",
    "    print(f\"Lembrete agendado: {texto} às {hora}\")\n",
    "\n",
    "# Testando o agendamento\n",
    "agendar_lembrete(\"Reunião de equipe\", \"14:00\")\n",
    "\n",
    "# Mantendo o script rodando para executar lembretes\n",
    "while True:\n",
    "    schedule.run_pending()\n",
    "    time.sleep(1)"
   ]
  },
  {
   "cell_type": "markdown",
   "id": "e8f1a2b3",
   "metadata": {},
   "source": [
    "## 🎯 Desafios Técnicos\n",
    "\n",
    "1. **Desafio 1:** Modifique o chatbot para buscar notícias reais usando uma API de notícias (ex.: NewsAPI).\n",
    "2. **Desafio 2:** Implemente um sistema de **priorização de tarefas** que agenda lembretes com base na urgência.\n",
    "3. **Desafio 3:** Crie um chatbot que integra múltiplas APIs (ex.: clima, notícias, lembretes) e toma decisões com base no contexto da conversa.\n",
    "\n",
    "Compartilhe suas soluções no fórum do curso!"
   ]
  }
 ],
 "metadata": {},
 "nbformat": 4,
 "nbformat_minor": 5
}

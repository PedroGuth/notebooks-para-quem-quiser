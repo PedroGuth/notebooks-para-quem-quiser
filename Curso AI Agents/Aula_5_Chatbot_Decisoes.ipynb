{
 "cells": [
  {
   "cell_type": "markdown",
   "id": "5ef1ae9d",
   "metadata": {},
   "source": [
    "\n",
    "# 🤖 Aula 5: Criando um Chatbot que Toma Decisões\n",
    "\n",
    "Neste notebook, vamos construir um chatbot que pode tomar decisões e realizar ações automaticamente.\n",
    "\n",
    "## 📌 O que faremos:\n",
    "1. Criar um chatbot que avalia perguntas e escolhe respostas apropriadas.\n",
    "2. Integrar chamadas a APIs externas para obter dados em tempo real.\n",
    "3. Automatizar tarefas como lembretes e notificações.\n",
    "\n",
    "---\n"
   ]
  },
  {
   "cell_type": "code",
   "execution_count": null,
   "id": "8c35a5d1",
   "metadata": {},
   "outputs": [],
   "source": [
    "\n",
    "# Instale a biblioteca OpenAI se ainda não estiver instalada\n",
    "!pip install openai requests\n"
   ]
  },
  {
   "cell_type": "code",
   "execution_count": null,
   "id": "8088c538",
   "metadata": {},
   "outputs": [],
   "source": [
    "\n",
    "import openai\n",
    "import requests\n",
    "\n",
    "# Defina sua chave de API (substitua 'SUA_CHAVE_AQUI' pela chave real)\n",
    "openai.api_key = \"SUA_CHAVE_AQUI\"\n"
   ]
  },
  {
   "cell_type": "code",
   "execution_count": null,
   "id": "0c1a1390",
   "metadata": {},
   "outputs": [],
   "source": [
    "\n",
    "# Chatbot que toma decisões baseado na entrada do usuário\n",
    "def chatbot_decisao(pergunta):\n",
    "    if \"clima\" in pergunta.lower():\n",
    "        return \"Quer que eu busque a previsão do tempo para você?\"\n",
    "    elif \"notícia\" in pergunta.lower():\n",
    "        return \"Posso te mostrar as últimas manchetes de hoje!\"\n",
    "    elif \"lembrete\" in pergunta.lower():\n",
    "        return \"Qual lembrete você gostaria de criar?\"\n",
    "    else:\n",
    "        return \"Não tenho certeza, mas posso pesquisar isso para você!\"\n",
    "\n",
    "# Teste do chatbot\n",
    "print(chatbot_decisao(\"Como está o clima hoje?\"))\n",
    "print(chatbot_decisao(\"Quais são as notícias mais recentes?\"))\n"
   ]
  },
  {
   "cell_type": "code",
   "execution_count": null,
   "id": "b43bebbb",
   "metadata": {},
   "outputs": [],
   "source": [
    "\n",
    "# Função para buscar a previsão do tempo\n",
    "def buscar_clima(cidade=\"São Paulo\"):\n",
    "    api_key = \"SUA_CHAVE_DE_CLIMA\"\n",
    "    url = f\"https://api.weatherapi.com/v1/current.json?key={api_key}&q={cidade}\"\n",
    "    resposta = requests.get(url).json()\n",
    "    return f\"A temperatura em {cidade} é {resposta['current']['temp_c']}°C.\"\n",
    "\n",
    "# Teste da função\n",
    "print(buscar_clima(\"Rio de Janeiro\"))\n"
   ]
  },
  {
   "cell_type": "code",
   "execution_count": null,
   "id": "4b816976",
   "metadata": {},
   "outputs": [],
   "source": [
    "\n",
    "# Chatbot aprimorado que toma decisões e realiza ações\n",
    "def chatbot_avancado(pergunta):\n",
    "    if \"clima\" in pergunta.lower():\n",
    "        return buscar_clima()\n",
    "    elif \"notícia\" in pergunta.lower():\n",
    "        return \"Aqui estão as notícias mais recentes! (Exemplo)\"\n",
    "    elif \"lembrete\" in pergunta.lower():\n",
    "        return \"Me diga o que eu devo lembrar e o horário.\"\n",
    "    else:\n",
    "        return \"Me diga como posso ajudar!\"\n",
    "\n",
    "# Teste do chatbot\n",
    "print(chatbot_avancado(\"Me diga como está o clima em Salvador.\"))\n"
   ]
  },
  {
   "cell_type": "code",
   "execution_count": null,
   "id": "c0b7ccc5",
   "metadata": {},
   "outputs": [],
   "source": [
    "\n",
    "import datetime\n",
    "\n",
    "# Função para criar um lembrete\n",
    "def criar_lembrete(texto, hora):\n",
    "    return f\"Lembrete criado: {texto} às {hora}!\"\n",
    "\n",
    "# Teste do lembrete\n",
    "print(criar_lembrete(\"Reunião de equipe\", \"14:00\"))\n"
   ]
  },
  {
   "cell_type": "markdown",
   "id": "4bcfc3c7",
   "metadata": {},
   "source": [
    "\n",
    "## 🎯 Desafio para os alunos!\n",
    "1. Criar um chatbot que possa buscar a previsão do tempo automaticamente.\n",
    "2. Modificar o bot para sugerir notícias quando o usuário perguntar.\n",
    "3. Criar um bot que automatize uma tarefa útil, como definir um lembrete.\n",
    "\n",
    "---\n"
   ]
  }
 ],
 "metadata": {},
 "nbformat": 4,
 "nbformat_minor": 5
}

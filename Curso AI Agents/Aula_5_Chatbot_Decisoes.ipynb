{
 "cells": [
  {
   "cell_type": "markdown",
   "id": "7e6e84d2",
   "metadata": {},
   "source": [
    "# 🤖 Aula 4: Criando um Chatbot com Memória\n",
    "\n",
    "Neste notebook, vamos construir um chatbot que lembra informações do usuário, com foco em conceitos técnicos, matemáticos e exemplos de código mais robustos.\n",
    "\n",
    "## 📌 O que faremos:\n",
    "1. Criar um histórico de mensagens para armazenar contexto.\n",
    "2. Implementar um chatbot que lembra do usuário ao longo da conversa.\n",
    "3. Explorar técnicas de retenção de memória e gerenciamento de contexto.\n",
    "4. Testar e melhorar a retenção de memória.\n"
   ]
  },
  {
   "cell_type": "markdown",
   "id": "d2e615ad",
   "metadata": {},
   "source": [
    "## 🧠 Conceitos Técnicos e Matemáticos\n",
    "\n",
    "### Memória em AI Agents\n",
    "A memória em AI Agents é crucial para manter o contexto de uma conversa. Ela pode ser implementada de várias formas:\n",
    "- **Memória de Curto Prazo:** Armazena as últimas interações para manter o contexto atual.\n",
    "- **Memória de Longo Prazo:** Armazena informações importantes para uso futuro, como o nome do usuário ou preferências.\n",
    "\n",
    "### Gerenciamento de Contexto\n",
    "O contexto é gerenciado através de uma **sequência de mensagens**, onde cada mensagem tem um papel (ex.: `system`, `user`, `assistant`). A API do OpenAI usa essa sequência para gerar respostas contextualizadas.\n",
    "\n",
    "A probabilidade de uma resposta é dada por:\n",
    "\n",
    "$$ P(r \\mid c) = \\prod_{i=1}^n P(r_i \\mid r_1, r_2, \\dots, r_{i-1}, c) $$\n",
    "\n",
    "Onde:\n",
    "- **$r$**: Resposta gerada.\n",
    "- **$c$**: Contexto (histórico de mensagens).\n",
    "- **$r_i$**: Palavra na posição $i$ da resposta.\n",
    "\n",
    "### Limitação de Memória\n",
    "Para evitar o acúmulo infinito de mensagens, é comum limitar o histórico a um número fixo de interações. Isso é feito removendo as mensagens mais antigas do contexto.\n"
   ]
  },
  {
   "cell_type": "code",
   "execution_count": null,
   "id": "f476e339",
   "metadata": {},
   "outputs": [],
   "source": [
    "# Instale a biblioteca OpenAI se ainda não estiver instalada\n",
    "!pip install openai"
   ]
  },
  {
   "cell_type": "code",
   "execution_count": null,
   "id": "399f9e08",
   "metadata": {},
   "outputs": [],
   "source": [
    "import openai\n",
    "\n",
    "# Defina sua chave de API (substitua 'SUA_CHAVE_AQUI' pela chave real)\n",
    "openai.api_key = \"SUA_CHAVE_AQUI\""
   ]
  },
  {
   "cell_type": "code",
   "execution_count": null,
   "id": "558bc07e",
   "metadata": {},
   "outputs": [],
   "source": [
    "# Criando um histórico de mensagens para armazenar contexto\n",
    "historico = [{\"role\": \"system\", \"content\": \"Você é um assistente amigável.\"}]\n",
    "\n",
    "def chatbot_memoria(pergunta):\n",
    "    historico.append({\"role\": \"user\", \"content\": pergunta})\n",
    "    resposta = openai.ChatCompletion.create(\n",
    "        model=\"gpt-4\",\n",
    "        messages=historico\n",
    "    )\n",
    "    mensagem = resposta[\"choices\"][0][\"message\"][\"content\"]\n",
    "    historico.append({\"role\": \"assistant\", \"content\": mensagem})\n",
    "    return mensagem\n",
    "\n",
    "# Teste rápido\n",
    "print(chatbot_memoria(\"Meu nome é João.\"))\n",
    "print(chatbot_memoria(\"Qual é o meu nome?\"))"
   ]
  },
  {
   "cell_type": "code",
   "execution_count": null,
   "id": "7c71e80b",
   "metadata": {},
   "outputs": [],
   "source": [
    "# Melhorando a retenção de contexto com um histórico mais longo\n",
    "def chatbot_memoria_aprimorado(pergunta, max_historico=5):\n",
    "    # Mantendo apenas as últimas N interações para evitar acúmulo infinito\n",
    "    if len(historico) > max_historico * 2:\n",
    "        historico.pop(1)\n",
    "        historico.pop(1)\n",
    "    \n",
    "    historico.append({\"role\": \"user\", \"content\": pergunta})\n",
    "    resposta = openai.ChatCompletion.create(\n",
    "        model=\"gpt-4\",\n",
    "        messages=historico\n",
    "    )\n",
    "    mensagem = resposta[\"choices\"][0][\"message\"][\"content\"]\n",
    "    historico.append({\"role\": \"assistant\", \"content\": mensagem})\n",
    "    return mensagem\n",
    "\n",
    "# Teste aprimorado\n",
    "print(chatbot_memoria_aprimorado(\"Meu nome é Ana.\"))\n",
    "print(chatbot_memoria_aprimorado(\"O que eu te disse antes?\"))"
   ]
  },
  {
   "cell_type": "markdown",
   "id": "f1e8a1b2",
   "metadata": {},
   "source": [
    "## 🛠️ Exemplo Prático: Chatbot com Memória de Longo Prazo\n",
    "\n",
    "Vamos criar um chatbot que armazena informações importantes (como o nome do usuário) em um banco de dados simples para memória de longo prazo.\n"
   ]
  },
  {
   "cell_type": "code",
   "execution_count": null,
   "id": "a1b2c3d4",
   "metadata": {},
   "outputs": [],
   "source": [
    "import sqlite3\n",
    "\n",
    "# Criando um banco de dados simples para memória de longo prazo\n",
    "conn = sqlite3.connect(\"chatbot_memoria.db\")\n",
    "cursor = conn.cursor()\n",
    "cursor.execute(\"CREATE TABLE IF NOT EXISTS memoria (chave TEXT, valor TEXT)\")\n",
    "conn.commit()\n",
    "\n",
    "class ChatbotMemoriaLongoPrazo:\n",
    "    def __init__(self):\n",
    "        self.historico = [{\"role\": \"system\", \"content\": \"Você é um assistente amigável.\"}]\n",
    "\n",
    "    def salvar_memoria(self, chave, valor):\n",
    "        cursor.execute(\"INSERT INTO memoria (chave, valor) VALUES (?, ?)\", (chave, valor))\n",
    "        conn.commit()\n",
    "\n",
    "    def recuperar_memoria(self, chave):\n",
    "        cursor.execute(\"SELECT valor FROM memoria WHERE chave = ?\", (chave,))\n",
    "        resultado = cursor.fetchone()\n",
    "        return resultado[0] if resultado else None\n",
    "\n",
    "    def perguntar(self, pergunta):\n",
    "        if \"meu nome é\" in pergunta.lower():\n",
    "            nome = pergunta.split(\"meu nome é\")[1].strip()\n",
    "            self.salvar_memoria(\"nome_usuario\", nome)\n",
    "            self.historico.append({\"role\": \"user\", \"content\": pergunta})\n",
    "            resposta = f\"Prazer em conhecê-lo, {nome}! Como posso ajudar?\"\n",
    "            self.historico.append({\"role\": \"assistant\", \"content\": resposta})\n",
    "            return resposta\n",
    "\n",
    "        nome_usuario = self.recuperar_memoria(\"nome_usuario\")\n",
    "        if nome_usuario:\n",
    "            pergunta = f\"{nome_usuario}, {pergunta}\"\n",
    "\n",
    "        self.historico.append({\"role\": \"user\", \"content\": pergunta})\n",
    "        resposta = openai.ChatCompletion.create(\n",
    "            model=\"gpt-4\",\n",
    "            messages=self.historico\n",
    "        )\n",
    "        mensagem = resposta[\"choices\"][0][\"message\"][\"content\"]\n",
    "        self.historico.append({\"role\": \"assistant\", \"content\": mensagem})\n",
    "        return mensagem\n",
    "\n",
    "# Testando o chatbot com memória de longo prazo\n",
    "bot = ChatbotMemoriaLongoPrazo()\n",
    "print(bot.perguntar(\"Meu nome é João.\"))\n",
    "print(bot.perguntar(\"Qual é o meu nome?\"))\n",
    "print(bot.perguntar(\"O que é um AI Agent?\"))"
   ]
  },
  {
   "cell_type": "markdown",
   "id": "e8f1a2b3",
   "metadata": {},
   "source": [
    "## 🎯 Desafios Técnicos\n",
    "\n",
    "1. **Desafio 1:** Modifique o chatbot para lembrar mais detalhes da conversa, como preferências ou hobbies do usuário.\n",
    "2. **Desafio 2:** Implemente um sistema de **limpeza de memória** que remove informações antigas após um período de tempo.\n",
    "3. **Desafio 3:** Crie um chatbot que usa embeddings para comparar perguntas anteriores e sugerir respostas baseadas em interações passadas.\n",
    "\n",
    "Compartilhe suas soluções no fórum do curso!"
   ]
  }
 ],
 "metadata": {},
 "nbformat": 4,
 "nbformat_minor": 5
}

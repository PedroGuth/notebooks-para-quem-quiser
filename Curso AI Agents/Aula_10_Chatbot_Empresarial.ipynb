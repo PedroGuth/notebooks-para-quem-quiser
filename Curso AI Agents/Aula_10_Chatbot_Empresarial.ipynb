{
 "cells": [
  {
   "cell_type": "markdown",
   "id": "41615347",
   "metadata": {},
   "source": [
    "\n",
    "# 📌 Aula 10: Criando um Chatbot Empresarial Pronto para Produção\n",
    "\n",
    "Neste notebook, construiremos um chatbot seguro, escalável e pronto para uso empresarial.\n",
    "Vamos implementar:\n",
    "\n",
    "1. Segurança e autenticação usando JWT.\n",
    "2. Armazenamento de conversas usando SQLite.\n",
    "3. Comunicação com a API da OpenAI.\n",
    "4. Implementação de um servidor Flask para expor o chatbot via API.\n",
    "\n",
    "---\n"
   ]
  },
  {
   "cell_type": "markdown",
   "id": "b0b56677",
   "metadata": {},
   "source": [
    "## 📦 Configuração do Ambiente\n",
    "\n",
    "Instalaremos e importaremos as bibliotecas necessárias."
   ]
  },
  {
   "cell_type": "code",
   "execution_count": null,
   "id": "7c1a2c04",
   "metadata": {},
   "outputs": [],
   "source": [
    "\n",
    "# Instale as bibliotecas necessárias (se ainda não estiverem instaladas)\n",
    "!pip install openai flask jwt sqlite3 requests logging\n"
   ]
  },
  {
   "cell_type": "code",
   "execution_count": null,
   "id": "1fcda52f",
   "metadata": {},
   "outputs": [],
   "source": [
    "\n",
    "# Importação das bibliotecas\n",
    "import openai\n",
    "import jwt\n",
    "import logging\n",
    "import sqlite3\n",
    "import requests\n",
    "from flask import Flask, request, jsonify\n",
    "\n",
    "# Configuração do log para facilitar o debug\n",
    "logging.basicConfig(level=logging.INFO)\n"
   ]
  },
  {
   "cell_type": "markdown",
   "id": "7d89423f",
   "metadata": {},
   "source": [
    "## 🗄️ Configuração do Banco de Dados\n",
    "\n",
    "Vamos criar um banco SQLite para armazenar as conversas do chatbot."
   ]
  },
  {
   "cell_type": "code",
   "execution_count": null,
   "id": "1462055f",
   "metadata": {},
   "outputs": [],
   "source": [
    "\n",
    "# Configuração do banco de dados SQLite\n",
    "conn = sqlite3.connect('chatbot.db', check_same_thread=False)\n",
    "cursor = conn.cursor()\n",
    "cursor.execute('''CREATE TABLE IF NOT EXISTS conversas (\n",
    "    id INTEGER PRIMARY KEY AUTOINCREMENT,\n",
    "    usuario TEXT,\n",
    "    mensagem TEXT,\n",
    "    resposta TEXT,\n",
    "    timestamp DATETIME DEFAULT CURRENT_TIMESTAMP\n",
    ")''')\n",
    "conn.commit()\n"
   ]
  },
  {
   "cell_type": "markdown",
   "id": "10066056",
   "metadata": {},
   "source": [
    "## 🔑 Implementando Autenticação com JWT\n",
    "\n",
    "Usaremos JSON Web Tokens (JWT) para autenticação segura."
   ]
  },
  {
   "cell_type": "code",
   "execution_count": null,
   "id": "2628a74d",
   "metadata": {},
   "outputs": [],
   "source": [
    "\n",
    "# Função para gerar tokens JWT\n",
    "def gerar_token(usuario):\n",
    "    token = jwt.encode({\"user\": usuario}, \"chave_secreta\", algorithm=\"HS256\")\n",
    "    return token\n",
    "\n",
    "# Testando geração de token\n",
    "print(\"Token gerado:\", gerar_token(\"admin\"))\n"
   ]
  },
  {
   "cell_type": "markdown",
   "id": "8b0801cf",
   "metadata": {},
   "source": [
    "## 💾 Armazenando Conversas\n",
    "\n",
    "Cada interação do usuário será salva no banco de dados."
   ]
  },
  {
   "cell_type": "code",
   "execution_count": null,
   "id": "5a2fa046",
   "metadata": {},
   "outputs": [],
   "source": [
    "\n",
    "# Função para armazenar conversas no banco de dados\n",
    "def salvar_conversa(usuario, mensagem, resposta):\n",
    "    cursor.execute(\"INSERT INTO conversas (usuario, mensagem, resposta) VALUES (?, ?, ?)\", (usuario, mensagem, resposta))\n",
    "    conn.commit()\n"
   ]
  },
  {
   "cell_type": "markdown",
   "id": "14a3448b",
   "metadata": {},
   "source": [
    "## 🤖 Comunicação com OpenAI API\n",
    "\n",
    "Agora conectaremos o chatbot à API da OpenAI para processar respostas."
   ]
  },
  {
   "cell_type": "code",
   "execution_count": null,
   "id": "7529547d",
   "metadata": {},
   "outputs": [],
   "source": [
    "\n",
    "# Função para obter resposta do OpenAI API\n",
    "def obter_resposta_openai(mensagem):\n",
    "    response = openai.ChatCompletion.create(\n",
    "        model=\"gpt-4\",\n",
    "        messages=[{\"role\": \"system\", \"content\": \"Você é um assistente empresarial.\"},\n",
    "                  {\"role\": \"user\", \"content\": mensagem}]\n",
    "    )\n",
    "    return response['choices'][0]['message']['content']\n"
   ]
  },
  {
   "cell_type": "markdown",
   "id": "3b3a6d78",
   "metadata": {},
   "source": [
    "## 🌍 Criando uma API com Flask\n",
    "\n",
    "Agora, vamos expor o chatbot como uma API para interações via requisições HTTP."
   ]
  },
  {
   "cell_type": "code",
   "execution_count": null,
   "id": "29f1cfed",
   "metadata": {},
   "outputs": [],
   "source": [
    "\n",
    "# Configuração do Flask\n",
    "app = Flask(__name__)\n",
    "\n",
    "# Rota para interagir com o chatbot\n",
    "@app.route(\"/chat\", methods=[\"POST\"])\n",
    "def chat():\n",
    "    data = request.json\n",
    "    usuario = data.get(\"usuario\")\n",
    "    mensagem = data.get(\"mensagem\")\n",
    "    \n",
    "    if not usuario or not mensagem:\n",
    "        return jsonify({\"erro\": \"Usuário e mensagem são obrigatórios\"}), 400\n",
    "    \n",
    "    resposta = obter_resposta_openai(mensagem)\n",
    "    salvar_conversa(usuario, mensagem, resposta)\n",
    "    \n",
    "    return jsonify({\"resposta\": resposta})\n",
    "\n",
    "# Rodando a aplicação Flask\n",
    "if __name__ == \"__main__\":\n",
    "    app.run(debug=True)\n"
   ]
  }
 ],
 "metadata": {},
 "nbformat": 4,
 "nbformat_minor": 5
}

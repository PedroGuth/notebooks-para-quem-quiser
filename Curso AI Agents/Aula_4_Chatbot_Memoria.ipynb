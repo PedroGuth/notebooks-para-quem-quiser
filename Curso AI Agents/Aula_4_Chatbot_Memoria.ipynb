{
 "cells": [
  {
   "cell_type": "markdown",
   "id": "7e6e84d2",
   "metadata": {},
   "source": [
    "\n",
    "# 🤖 Aula 4: Criando um Chatbot com Memória\n",
    "\n",
    "Neste notebook, vamos construir um chatbot que lembra informações do usuário.\n",
    "\n",
    "## 📌 O que faremos:\n",
    "1. Criar um histórico de mensagens para armazenar contexto.\n",
    "2. Implementar um chatbot que lembra do usuário ao longo da conversa.\n",
    "3. Testar e melhorar a retenção de memória.\n",
    "\n",
    "---\n"
   ]
  },
  {
   "cell_type": "code",
   "execution_count": null,
   "id": "f476e339",
   "metadata": {},
   "outputs": [],
   "source": [
    "\n",
    "# Instale a biblioteca OpenAI se ainda não estiver instalada\n",
    "!pip install openai\n"
   ]
  },
  {
   "cell_type": "code",
   "execution_count": null,
   "id": "399f9e08",
   "metadata": {},
   "outputs": [],
   "source": [
    "\n",
    "import openai\n",
    "\n",
    "# Defina sua chave de API (substitua 'SUA_CHAVE_AQUI' pela chave real)\n",
    "openai.api_key = \"SUA_CHAVE_AQUI\"\n"
   ]
  },
  {
   "cell_type": "code",
   "execution_count": null,
   "id": "558bc07e",
   "metadata": {},
   "outputs": [],
   "source": [
    "\n",
    "# Criando um histórico de mensagens para armazenar contexto\n",
    "historico = [{\"role\": \"system\", \"content\": \"Você é um assistente amigável.\"}]\n",
    "\n",
    "def chatbot_memoria(pergunta):\n",
    "    historico.append({\"role\": \"user\", \"content\": pergunta})\n",
    "    resposta = openai.ChatCompletion.create(\n",
    "        model=\"gpt-4\",\n",
    "        messages=historico\n",
    "    )\n",
    "    mensagem = resposta[\"choices\"][0][\"message\"][\"content\"]\n",
    "    historico.append({\"role\": \"assistant\", \"content\": mensagem})\n",
    "    return mensagem\n",
    "\n",
    "# Teste rápido\n",
    "print(chatbot_memoria(\"Meu nome é João.\"))\n",
    "print(chatbot_memoria(\"Qual é o meu nome?\"))\n"
   ]
  },
  {
   "cell_type": "code",
   "execution_count": null,
   "id": "7c71e80b",
   "metadata": {},
   "outputs": [],
   "source": [
    "\n",
    "# Melhorando a retenção de contexto com um histórico mais longo\n",
    "\n",
    "def chatbot_memoria_aprimorado(pergunta, max_historico=5):\n",
    "    # Mantendo apenas as últimas N interações para evitar acúmulo infinito\n",
    "    if len(historico) > max_historico * 2:\n",
    "        historico.pop(1)\n",
    "        historico.pop(1)\n",
    "    \n",
    "    historico.append({\"role\": \"user\", \"content\": pergunta})\n",
    "    resposta = openai.ChatCompletion.create(\n",
    "        model=\"gpt-4\",\n",
    "        messages=historico\n",
    "    )\n",
    "    mensagem = resposta[\"choices\"][0][\"message\"][\"content\"]\n",
    "    historico.append({\"role\": \"assistant\", \"content\": mensagem})\n",
    "    return mensagem\n",
    "\n",
    "# Teste aprimorado\n",
    "print(chatbot_memoria_aprimorado(\"Meu nome é Ana.\"))\n",
    "print(chatbot_memoria_aprimorado(\"O que eu te disse antes?\"))\n"
   ]
  },
  {
   "cell_type": "markdown",
   "id": "be48330e",
   "metadata": {},
   "source": [
    "\n",
    "## 🎯 Desafio para os alunos!\n",
    "1. Modifique o chatbot para lembrar mais detalhes da conversa.\n",
    "2. Teste limitar a memória do chatbot para evitar respostas irrelevantes.\n",
    "3. Compartilhe suas descobertas no fórum do curso!\n",
    "\n",
    "---\n"
   ]
  }
 ],
 "metadata": {},
 "nbformat": 4,
 "nbformat_minor": 5
}

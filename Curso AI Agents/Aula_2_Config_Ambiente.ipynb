{
 "cells": [
  {
   "cell_type": "markdown",
   "id": "5e546f07",
   "metadata": {},
   "source": [
    "\n",
    "# 🤖 Aula 2: Configurando seu Ambiente (Sem Crise!)\n",
    "\n",
    "Este notebook irá te guiar na configuração do ambiente para criar AI Agents.\n",
    "\n",
    "## 📌 O que faremos:\n",
    "1. Verificar e instalar Python e dependências.\n",
    "2. Criar e ativar um ambiente virtual.\n",
    "3. Instalar bibliotecas essenciais.\n",
    "4. Testar se tudo está funcionando corretamente.\n"
   ]
  },
  {
   "cell_type": "code",
   "execution_count": null,
   "id": "25662b94",
   "metadata": {},
   "outputs": [],
   "source": [
    "\n",
    "# Verificando a versão do Python\n",
    "!python --version\n"
   ]
  },
  {
   "cell_type": "code",
   "execution_count": null,
   "id": "e9396d27",
   "metadata": {},
   "outputs": [],
   "source": [
    "\n",
    "# Criando um ambiente virtual chamado 'meu_ambiente'\n",
    "!python -m venv meu_ambiente\n",
    "\n",
    "# O comando para ativação depende do seu sistema operacional:\n",
    "# No Windows:\n",
    "# meu_ambiente\\Scripts\\activate\n",
    "\n",
    "# No Mac/Linux:\n",
    "# source meu_ambiente/bin/activate\n"
   ]
  },
  {
   "cell_type": "code",
   "execution_count": null,
   "id": "fdf609ee",
   "metadata": {},
   "outputs": [],
   "source": [
    "\n",
    "# Instalando bibliotecas essenciais\n",
    "!pip install openai langchain chromadb\n"
   ]
  },
  {
   "cell_type": "code",
   "execution_count": null,
   "id": "f1b7d66b",
   "metadata": {},
   "outputs": [],
   "source": [
    "\n",
    "# Verificando se as bibliotecas foram instaladas corretamente\n",
    "!pip list | grep -E 'openai|langchain|chromadb'\n"
   ]
  },
  {
   "cell_type": "code",
   "execution_count": null,
   "id": "9e915861",
   "metadata": {},
   "outputs": [],
   "source": [
    "\n",
    "import openai\n",
    "\n",
    "# Defina sua chave da API (substitua 'SUA_CHAVE_AQUI' pela chave real)\n",
    "openai.api_key = \"SUA_CHAVE_AQUI\"\n",
    "\n",
    "# Testando a API do OpenAI\n",
    "resposta = openai.ChatCompletion.create(\n",
    "    model=\"gpt-4\",\n",
    "    messages=[{\"role\": \"user\", \"content\": \"Olá, IA!\"}]\n",
    ")\n",
    "\n",
    "print(resposta[\"choices\"][0][\"message\"][\"content\"])\n"
   ]
  },
  {
   "cell_type": "markdown",
   "id": "03a61945",
   "metadata": {},
   "source": [
    "\n",
    "## 🎯 Desafio para os alunos!\n",
    "1. Configure seu ambiente e instale todas as dependências corretamente.\n",
    "2. Rode o código de teste para garantir que a OpenAI API está funcionando.\n",
    "3. Se encontrar erros, compartilhe no fórum do curso para buscar ajuda.\n"
   ]
  }
 ],
 "metadata": {},
 "nbformat": 4,
 "nbformat_minor": 5
}

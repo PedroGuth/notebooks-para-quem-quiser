{
 "cells": [
  {
   "cell_type": "markdown",
   "id": "5e546f07",
   "metadata": {},
   "source": [
    "# 🤖 Aula 2: Configurando seu Ambiente (Sem Crise!)\n",
    "\n",
    "Este notebook irá te guiar na configuração do ambiente para criar AI Agents, com foco em conceitos técnicos, matemáticos e exemplos de código mais robustos.\n",
    "\n",
    "## 📌 O que faremos:\n",
    "1. Verificar e instalar Python e dependências.\n",
    "2. Criar e ativar um ambiente virtual.\n",
    "3. Instalar bibliotecas essenciais.\n",
    "4. Testar se tudo está funcionando corretamente.\n",
    "5. Explorar conceitos matemáticos e técnicos por trás das bibliotecas.\n"
   ]
  },
  {
   "cell_type": "markdown",
   "id": "d2e615ad",
   "metadata": {},
   "source": [
    "## 🧠 Conceitos Técnicos e Matemáticos\n",
    "\n",
    "### Por que usar um Ambiente Virtual?\n",
    "Um ambiente virtual é um espaço isolado onde você pode instalar bibliotecas específicas para um projeto sem afetar o sistema global. Isso evita conflitos de versões e garante que o projeto funcione corretamente em qualquer máquina.\n",
    "\n",
    "Matematicamente, podemos pensar em um ambiente virtual como um **subespaço** onde as dependências do projeto são **vetores independentes** do sistema global.\n",
    "\n",
    "### Bibliotecas Essenciais e seus Papéis\n",
    "- **OpenAI**: Fornece acesso a modelos de linguagem como GPT-4.\n",
    "- **LangChain**: Facilita a criação de cadeias de processamento de linguagem natural (NLP).\n",
    "- **ChromaDB**: Um banco de dados vetorial para armazenar e consultar embeddings.\n",
    "\n",
    "### Embeddings e Matemática\n",
    "Embeddings são representações vetoriais de palavras ou frases. Eles são usados para medir a **similaridade** entre textos. A similaridade é calculada usando o **produto escalar** ou a **distância cosseno** entre dois vetores:\n",
    "\n",
    "$$ \\text{Similaridade}(A, B) = \\frac{A \\cdot B}{\\|A\\| \\|B\\|} $$\n",
    "\n",
    "Onde:\n",
    "- **$A$ e $B$**: Vetores de embeddings.\n",
    "- **$A \\cdot B$**: Produto escalar.\n",
    "- **$\\|A\\|$ e $\\|B\\|$**: Normas dos vetores.\n"
   ]
  },
  {
   "cell_type": "code",
   "execution_count": null,
   "id": "25662b94",
   "metadata": {},
   "outputs": [],
   "source": [
    "# Verificando a versão do Python\n",
    "!python --version"
   ]
  },
  {
   "cell_type": "code",
   "execution_count": null,
   "id": "e9396d27",
   "metadata": {},
   "outputs": [],
   "source": [
    "# Criando um ambiente virtual chamado 'meu_ambiente'\n",
    "!python -m venv meu_ambiente\n",
    "\n",
    "# O comando para ativação depende do seu sistema operacional:\n",
    "# No Windows:\n",
    "# meu_ambiente\\Scripts\\activate\n",
    "\n",
    "# No Mac/Linux:\n",
    "# source meu_ambiente/bin/activate"
   ]
  },
  {
   "cell_type": "code",
   "execution_count": null,
   "id": "fdf609ee",
   "metadata": {},
   "outputs": [],
   "source": [
    "# Instalando bibliotecas essenciais\n",
    "!pip install openai langchain chromadb"
   ]
  },
  {
   "cell_type": "code",
   "execution_count": null,
   "id": "f1b7d66b",
   "metadata": {},
   "outputs": [],
   "source": [
    "# Verificando se as bibliotecas foram instaladas corretamente\n",
    "!pip list | grep -E 'openai|langchain|chromadb'"
   ]
  },
  {
   "cell_type": "code",
   "execution_count": null,
   "id": "9e915861",
   "metadata": {},
   "outputs": [],
   "source": [
    "import openai\n",
    "\n",
    "# Defina sua chave da API (substitua 'SUA_CHAVE_AQUI' pela chave real)\n",
    "openai.api_key = \"SUA_CHAVE_AQUI\"\n",
    "\n",
    "# Testando a API do OpenAI\n",
    "resposta = openai.ChatCompletion.create(\n",
    "    model=\"gpt-4\",\n",
    "    messages=[{\"role\": \"user\", \"content\": \"Olá, IA!\"}]\n",
    ")\n",
    "\n",
    "print(resposta[\"choices\"][0][\"message\"][\"content\"])"
   ]
  },
  {
   "cell_type": "markdown",
   "id": "f1e8a1b2",
   "metadata": {},
   "source": [
    "## 🛠️ Exemplo Prático: Criando um AI Agent com LangChain\n",
    "\n",
    "Vamos criar um AI Agent simples usando LangChain e OpenAI para responder perguntas com base em um contexto específico.\n"
   ]
  },
  {
   "cell_type": "code",
   "execution_count": null,
   "id": "a1b2c3d4",
   "metadata": {},
   "outputs": [],
   "source": [
    "from langchain.chains import RetrievalQA\n",
    "from langchain.document_loaders import TextLoader\n",
    "from langchain.embeddings import OpenAIEmbeddings\n",
    "from langchain.vectorstores import Chroma\n",
    "from langchain.llms import OpenAI\n",
    "\n",
    "# Carregando um documento de exemplo\n",
    "loader = TextLoader(\"exemplo.txt\")\n",
    "documents = loader.load()\n",
    "\n",
    "# Criando embeddings e armazenando no ChromaDB\n",
    "embeddings = OpenAIEmbeddings()\n",
    "db = Chroma.from_documents(documents, embeddings)\n",
    "\n",
    "# Criando um QA chain\n",
    "qa = RetrievalQA.from_chain_type(\n",
    "    llm=OpenAI(),\n",
    "    chain_type=\"stuff\",\n",
    "    retriever=db.as_retriever()\n",
    ")\n",
    "\n",
    "# Fazendo uma pergunta\n",
    "pergunta = \"Qual é o tema principal do documento?\"\n",
    "resposta = qa.run(pergunta)\n",
    "print(resposta)"
   ]
  },
  {
   "cell_type": "markdown",
   "id": "e8f1a2b3",
   "metadata": {},
   "source": [
    "## 🎯 Desafios Técnicos\n",
    "\n",
    "1. **Desafio 1:** Modifique o código acima para usar um PDF como fonte de dados em vez de um arquivo de texto.\n",
    "2. **Desafio 2:** Implemente um sistema de **memória de curto prazo** para o AI Agent, armazenando as últimas 5 perguntas e respostas.\n",
    "3. **Desafio 3:** Crie um AI Agent que usa embeddings para comparar a similaridade entre dois textos e retorna uma pontuação de 0 a 1.\n",
    "\n",
    "Compartilhe suas soluções no fórum do curso!"
   ]
  }
 ],
 "metadata": {},
 "nbformat": 4,
 "nbformat_minor": 5
}
